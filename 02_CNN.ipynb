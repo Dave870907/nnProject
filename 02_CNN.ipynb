{
  "nbformat": 4,
  "nbformat_minor": 0,
  "metadata": {
    "kernelspec": {
      "display_name": "Python 3",
      "language": "python",
      "name": "python3"
    },
    "language_info": {
      "codemirror_mode": {
        "name": "ipython",
        "version": 3
      },
      "file_extension": ".py",
      "mimetype": "text/x-python",
      "name": "python",
      "nbconvert_exporter": "python",
      "pygments_lexer": "ipython3",
      "version": "3.7.3"
    },
    "colab": {
      "name": "02 CNN.ipynb",
      "provenance": []
    },
    "accelerator": "GPU",
    "widgets": {
      "application/vnd.jupyter.widget-state+json": {
        "ae9d4059acce40ed92d991c035335b4d": {
          "model_module": "@jupyter-widgets/controls",
          "model_name": "VBoxModel",
          "state": {
            "_view_name": "VBoxView",
            "_dom_classes": [
              "widget-interact"
            ],
            "_model_name": "VBoxModel",
            "_view_module": "@jupyter-widgets/controls",
            "_model_module_version": "1.5.0",
            "_view_count": null,
            "_view_module_version": "1.5.0",
            "box_style": "",
            "layout": "IPY_MODEL_dde9f1f5a7a144d9a9e7b92a0769cbd5",
            "_model_module": "@jupyter-widgets/controls",
            "children": [
              "IPY_MODEL_7dfcdd0e0db44ec3814415b193050419",
              "IPY_MODEL_214e8d690da84d43a6a95a1200ba26f1",
              "IPY_MODEL_2aae08bb4e1f4dd4950eed4d4c24b464"
            ]
          }
        },
        "dde9f1f5a7a144d9a9e7b92a0769cbd5": {
          "model_module": "@jupyter-widgets/base",
          "model_name": "LayoutModel",
          "state": {
            "_view_name": "LayoutView",
            "grid_template_rows": null,
            "right": null,
            "justify_content": null,
            "_view_module": "@jupyter-widgets/base",
            "overflow": null,
            "_model_module_version": "1.2.0",
            "_view_count": null,
            "flex_flow": null,
            "width": null,
            "min_width": null,
            "border": null,
            "align_items": null,
            "bottom": null,
            "_model_module": "@jupyter-widgets/base",
            "top": null,
            "grid_column": null,
            "overflow_y": null,
            "overflow_x": null,
            "grid_auto_flow": null,
            "grid_area": null,
            "grid_template_columns": null,
            "flex": null,
            "_model_name": "LayoutModel",
            "justify_items": null,
            "grid_row": null,
            "max_height": null,
            "align_content": null,
            "visibility": null,
            "align_self": null,
            "height": null,
            "min_height": null,
            "padding": null,
            "grid_auto_rows": null,
            "grid_gap": null,
            "max_width": null,
            "order": null,
            "_view_module_version": "1.2.0",
            "grid_template_areas": null,
            "object_position": null,
            "object_fit": null,
            "grid_auto_columns": null,
            "margin": null,
            "display": null,
            "left": null
          }
        },
        "7dfcdd0e0db44ec3814415b193050419": {
          "model_module": "@jupyter-widgets/controls",
          "model_name": "IntSliderModel",
          "state": {
            "_view_name": "IntSliderView",
            "style": "IPY_MODEL_1e0018a3a57a46f1976f4c5e9deb2882",
            "_dom_classes": [],
            "description": "n",
            "step": 1,
            "_model_name": "IntSliderModel",
            "orientation": "horizontal",
            "max": 9999,
            "_view_module": "@jupyter-widgets/controls",
            "_model_module_version": "1.5.0",
            "value": 9596,
            "_view_count": null,
            "disabled": false,
            "_view_module_version": "1.5.0",
            "min": 0,
            "continuous_update": true,
            "readout_format": "d",
            "description_tooltip": null,
            "readout": true,
            "_model_module": "@jupyter-widgets/controls",
            "layout": "IPY_MODEL_acf16dd4f272446794c7e821afe9f9b3"
          }
        },
        "214e8d690da84d43a6a95a1200ba26f1": {
          "model_module": "@jupyter-widgets/controls",
          "model_name": "ButtonModel",
          "state": {
            "_view_name": "ButtonView",
            "style": "IPY_MODEL_a83e32bacd5449d7a3b75591d3ce4bc8",
            "_dom_classes": [],
            "description": "Run Interact",
            "_model_name": "ButtonModel",
            "button_style": "",
            "_view_module": "@jupyter-widgets/controls",
            "_model_module_version": "1.5.0",
            "tooltip": "",
            "_view_count": null,
            "disabled": false,
            "_view_module_version": "1.5.0",
            "layout": "IPY_MODEL_6ae8338bfad2413d8c0138ab52f18246",
            "_model_module": "@jupyter-widgets/controls",
            "icon": ""
          }
        },
        "2aae08bb4e1f4dd4950eed4d4c24b464": {
          "model_module": "@jupyter-widgets/output",
          "model_name": "OutputModel",
          "state": {
            "_view_name": "OutputView",
            "msg_id": "",
            "_dom_classes": [],
            "_model_name": "OutputModel",
            "outputs": [
              {
                "output_type": "stream",
                "metadata": {
                  "tags": []
                },
                "text": "我可愛的 CNN 預測是 8\n",
                "stream": "stdout"
              },
              {
                "output_type": "display_data",
                "metadata": {
                  "tags": [],
                  "needs_background": "light"
                },
                "image/png": "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\n",
                "text/plain": "<Figure size 432x288 with 1 Axes>"
              }
            ],
            "_view_module": "@jupyter-widgets/output",
            "_model_module_version": "1.0.0",
            "_view_count": null,
            "_view_module_version": "1.0.0",
            "layout": "IPY_MODEL_47441e2698544309ab1e2b2a94616a10",
            "_model_module": "@jupyter-widgets/output"
          }
        },
        "1e0018a3a57a46f1976f4c5e9deb2882": {
          "model_module": "@jupyter-widgets/controls",
          "model_name": "SliderStyleModel",
          "state": {
            "_view_name": "StyleView",
            "handle_color": null,
            "_model_name": "SliderStyleModel",
            "description_width": "",
            "_view_module": "@jupyter-widgets/base",
            "_model_module_version": "1.5.0",
            "_view_count": null,
            "_view_module_version": "1.2.0",
            "_model_module": "@jupyter-widgets/controls"
          }
        },
        "acf16dd4f272446794c7e821afe9f9b3": {
          "model_module": "@jupyter-widgets/base",
          "model_name": "LayoutModel",
          "state": {
            "_view_name": "LayoutView",
            "grid_template_rows": null,
            "right": null,
            "justify_content": null,
            "_view_module": "@jupyter-widgets/base",
            "overflow": null,
            "_model_module_version": "1.2.0",
            "_view_count": null,
            "flex_flow": null,
            "width": null,
            "min_width": null,
            "border": null,
            "align_items": null,
            "bottom": null,
            "_model_module": "@jupyter-widgets/base",
            "top": null,
            "grid_column": null,
            "overflow_y": null,
            "overflow_x": null,
            "grid_auto_flow": null,
            "grid_area": null,
            "grid_template_columns": null,
            "flex": null,
            "_model_name": "LayoutModel",
            "justify_items": null,
            "grid_row": null,
            "max_height": null,
            "align_content": null,
            "visibility": null,
            "align_self": null,
            "height": null,
            "min_height": null,
            "padding": null,
            "grid_auto_rows": null,
            "grid_gap": null,
            "max_width": null,
            "order": null,
            "_view_module_version": "1.2.0",
            "grid_template_areas": null,
            "object_position": null,
            "object_fit": null,
            "grid_auto_columns": null,
            "margin": null,
            "display": null,
            "left": null
          }
        },
        "a83e32bacd5449d7a3b75591d3ce4bc8": {
          "model_module": "@jupyter-widgets/controls",
          "model_name": "ButtonStyleModel",
          "state": {
            "_view_name": "StyleView",
            "_model_name": "ButtonStyleModel",
            "_view_module": "@jupyter-widgets/base",
            "_model_module_version": "1.5.0",
            "_view_count": null,
            "button_color": null,
            "font_weight": "",
            "_view_module_version": "1.2.0",
            "_model_module": "@jupyter-widgets/controls"
          }
        },
        "6ae8338bfad2413d8c0138ab52f18246": {
          "model_module": "@jupyter-widgets/base",
          "model_name": "LayoutModel",
          "state": {
            "_view_name": "LayoutView",
            "grid_template_rows": null,
            "right": null,
            "justify_content": null,
            "_view_module": "@jupyter-widgets/base",
            "overflow": null,
            "_model_module_version": "1.2.0",
            "_view_count": null,
            "flex_flow": null,
            "width": null,
            "min_width": null,
            "border": null,
            "align_items": null,
            "bottom": null,
            "_model_module": "@jupyter-widgets/base",
            "top": null,
            "grid_column": null,
            "overflow_y": null,
            "overflow_x": null,
            "grid_auto_flow": null,
            "grid_area": null,
            "grid_template_columns": null,
            "flex": null,
            "_model_name": "LayoutModel",
            "justify_items": null,
            "grid_row": null,
            "max_height": null,
            "align_content": null,
            "visibility": null,
            "align_self": null,
            "height": null,
            "min_height": null,
            "padding": null,
            "grid_auto_rows": null,
            "grid_gap": null,
            "max_width": null,
            "order": null,
            "_view_module_version": "1.2.0",
            "grid_template_areas": null,
            "object_position": null,
            "object_fit": null,
            "grid_auto_columns": null,
            "margin": null,
            "display": null,
            "left": null
          }
        },
        "47441e2698544309ab1e2b2a94616a10": {
          "model_module": "@jupyter-widgets/base",
          "model_name": "LayoutModel",
          "state": {
            "_view_name": "LayoutView",
            "grid_template_rows": null,
            "right": null,
            "justify_content": null,
            "_view_module": "@jupyter-widgets/base",
            "overflow": null,
            "_model_module_version": "1.2.0",
            "_view_count": null,
            "flex_flow": null,
            "width": null,
            "min_width": null,
            "border": null,
            "align_items": null,
            "bottom": null,
            "_model_module": "@jupyter-widgets/base",
            "top": null,
            "grid_column": null,
            "overflow_y": null,
            "overflow_x": null,
            "grid_auto_flow": null,
            "grid_area": null,
            "grid_template_columns": null,
            "flex": null,
            "_model_name": "LayoutModel",
            "justify_items": null,
            "grid_row": null,
            "max_height": null,
            "align_content": null,
            "visibility": null,
            "align_self": null,
            "height": null,
            "min_height": null,
            "padding": null,
            "grid_auto_rows": null,
            "grid_gap": null,
            "max_width": null,
            "order": null,
            "_view_module_version": "1.2.0",
            "grid_template_areas": null,
            "object_position": null,
            "object_fit": null,
            "grid_auto_columns": null,
            "margin": null,
            "display": null,
            "left": null
          }
        }
      }
    }
  },
  "cells": [
    {
      "cell_type": "code",
      "metadata": {
        "id": "H89Zb40N9daQ"
      },
      "source": [
        "%matplotlib inline\n",
        "\n",
        "import numpy as np\n",
        "import matplotlib.pyplot as plt\n",
        "import pandas as pd"
      ],
      "execution_count": 35,
      "outputs": []
    },
    {
      "cell_type": "code",
      "metadata": {
        "id": "PhSWFan09daa"
      },
      "source": [
        "from tensorflow.keras.utils import to_categorical\n",
        "from tensorflow.keras.models import Sequential\n",
        "from tensorflow.keras.layers import Conv2D, MaxPooling2D\n",
        "from tensorflow.keras.layers import Dense, Flatten\n",
        "from tensorflow.keras.optimizers import SGD"
      ],
      "execution_count": 36,
      "outputs": []
    },
    {
      "cell_type": "markdown",
      "metadata": {
        "id": "jk4uduN19dag"
      },
      "source": [
        "### 1. 讀入 MNSIT 數據集"
      ]
    },
    {
      "cell_type": "code",
      "metadata": {
        "id": "UUqy0eaC9dah"
      },
      "source": [
        "from tensorflow.keras.datasets import mnist"
      ],
      "execution_count": 37,
      "outputs": []
    },
    {
      "cell_type": "code",
      "metadata": {
        "id": "ip9T8nZj9dal"
      },
      "source": [
        "(x_train, y_train), (x_test, y_test) = mnist.load_data()"
      ],
      "execution_count": 38,
      "outputs": []
    },
    {
      "cell_type": "markdown",
      "metadata": {
        "id": "f8LI9vGF9dap"
      },
      "source": [
        "### 2. 資料整理"
      ]
    },
    {
      "cell_type": "markdown",
      "metadata": {
        "id": "NFIdgOKo9dap"
      },
      "source": [
        "### Channel\n",
        "\n",
        "CNN 要注意一張圖有多少個 channel, 開始我們因為只有灰階, 所以只有一個 channel。因此我們要轉一下我們的資料格式:\n",
        "\n",
        "    (28,28) --> (28, 28, 1)"
      ]
    },
    {
      "cell_type": "code",
      "metadata": {
        "id": "r89OaGm79daq"
      },
      "source": [
        "x_train = x_train.reshape(60000, 28, 28, 1) / 255"
      ],
      "execution_count": 39,
      "outputs": []
    },
    {
      "cell_type": "code",
      "metadata": {
        "id": "6VzauVtc9dat"
      },
      "source": [
        "x_test = x_test.reshape(10000, 28, 28, 1) / 255"
      ],
      "execution_count": 40,
      "outputs": []
    },
    {
      "cell_type": "code",
      "metadata": {
        "id": "nHqgC9r59dax"
      },
      "source": [
        "y_train = to_categorical(y_train, 10)\n",
        "y_test = to_categorical(y_test, 10)"
      ],
      "execution_count": 41,
      "outputs": []
    },
    {
      "cell_type": "markdown",
      "metadata": {
        "id": "4LE7nfsQ9da1"
      },
      "source": [
        "### 3. step 1: 打造函數學習機 (CNN)"
      ]
    },
    {
      "cell_type": "code",
      "metadata": {
        "id": "vCOazsRM9da2"
      },
      "source": [
        "model = Sequential()"
      ],
      "execution_count": 42,
      "outputs": []
    },
    {
      "cell_type": "code",
      "metadata": {
        "id": "3FrC6VgY9da5"
      },
      "source": [
        "model.add(Conv2D(16, (3,3), padding='same',\n",
        "                input_shape=(28,28,1),\n",
        "                activation='relu'))"
      ],
      "execution_count": 43,
      "outputs": []
    },
    {
      "cell_type": "code",
      "metadata": {
        "id": "Ku7QDou79da9"
      },
      "source": [
        "model.add(MaxPooling2D(pool_size=(2,2)))"
      ],
      "execution_count": 44,
      "outputs": []
    },
    {
      "cell_type": "code",
      "metadata": {
        "id": "AdKoKvCk9dbA"
      },
      "source": [
        "model.add(Conv2D(32, (3,3), padding='same',\n",
        "                activation='relu'))"
      ],
      "execution_count": 45,
      "outputs": []
    },
    {
      "cell_type": "code",
      "metadata": {
        "id": "bxFIPLvj9dbD"
      },
      "source": [
        "model.add(MaxPooling2D(pool_size=(2,2)))"
      ],
      "execution_count": 46,
      "outputs": []
    },
    {
      "cell_type": "code",
      "metadata": {
        "id": "9pGmWlHs9dbH"
      },
      "source": [
        "model.add(Conv2D(64, (3,3), padding='same',\n",
        "                activation='relu'))"
      ],
      "execution_count": 47,
      "outputs": []
    },
    {
      "cell_type": "code",
      "metadata": {
        "id": "FngaF6HF9dbL"
      },
      "source": [
        "model.add(MaxPooling2D(pool_size=(2,2)))"
      ],
      "execution_count": 48,
      "outputs": []
    },
    {
      "cell_type": "code",
      "metadata": {
        "id": "4E5lXKuS9dbP"
      },
      "source": [
        "model.add(Flatten())"
      ],
      "execution_count": 49,
      "outputs": []
    },
    {
      "cell_type": "code",
      "metadata": {
        "id": "d5guUIzz9dbS"
      },
      "source": [
        "model.add(Dense(54, activation='relu'))"
      ],
      "execution_count": 50,
      "outputs": []
    },
    {
      "cell_type": "code",
      "metadata": {
        "id": "p7ca9nT-9dbV"
      },
      "source": [
        "model.add(Dense(10, activation='softmax'))"
      ],
      "execution_count": 51,
      "outputs": []
    },
    {
      "cell_type": "markdown",
      "metadata": {
        "id": "GrUp3exy9dbX"
      },
      "source": [
        "#### 看一下我們的神經網路"
      ]
    },
    {
      "cell_type": "code",
      "metadata": {
        "id": "jpIYPsu79dbY",
        "outputId": "47c5d9b1-95f5-41e9-b35f-ac3f86689e88",
        "colab": {
          "base_uri": "https://localhost:8080/"
        }
      },
      "source": [
        "model.summary()"
      ],
      "execution_count": 52,
      "outputs": [
        {
          "output_type": "stream",
          "text": [
            "Model: \"sequential_1\"\n",
            "_________________________________________________________________\n",
            "Layer (type)                 Output Shape              Param #   \n",
            "=================================================================\n",
            "conv2d_3 (Conv2D)            (None, 28, 28, 16)        160       \n",
            "_________________________________________________________________\n",
            "max_pooling2d_3 (MaxPooling2 (None, 14, 14, 16)        0         \n",
            "_________________________________________________________________\n",
            "conv2d_4 (Conv2D)            (None, 14, 14, 32)        4640      \n",
            "_________________________________________________________________\n",
            "max_pooling2d_4 (MaxPooling2 (None, 7, 7, 32)          0         \n",
            "_________________________________________________________________\n",
            "conv2d_5 (Conv2D)            (None, 7, 7, 64)          18496     \n",
            "_________________________________________________________________\n",
            "max_pooling2d_5 (MaxPooling2 (None, 3, 3, 64)          0         \n",
            "_________________________________________________________________\n",
            "flatten_1 (Flatten)          (None, 576)               0         \n",
            "_________________________________________________________________\n",
            "dense_2 (Dense)              (None, 54)                31158     \n",
            "_________________________________________________________________\n",
            "dense_3 (Dense)              (None, 10)                550       \n",
            "=================================================================\n",
            "Total params: 55,004\n",
            "Trainable params: 55,004\n",
            "Non-trainable params: 0\n",
            "_________________________________________________________________\n"
          ],
          "name": "stdout"
        }
      ]
    },
    {
      "cell_type": "markdown",
      "metadata": {
        "id": "wuL3x8BE9dbc"
      },
      "source": [
        "#### 組裝"
      ]
    },
    {
      "cell_type": "code",
      "metadata": {
        "id": "zShD6_Wj9dbd"
      },
      "source": [
        "model.compile(loss='mse', optimizer=SGD(lr=0.087),\n",
        "             metrics=['accuracy'])"
      ],
      "execution_count": 53,
      "outputs": []
    },
    {
      "cell_type": "markdown",
      "metadata": {
        "id": "L5VmfOEa9dbf"
      },
      "source": [
        "### 4. step 2: fit"
      ]
    },
    {
      "cell_type": "code",
      "metadata": {
        "scrolled": true,
        "id": "vqCVlBt29dbg",
        "outputId": "65481dc9-e085-4dab-a908-7342e8e96e12",
        "colab": {
          "base_uri": "https://localhost:8080/"
        }
      },
      "source": [
        "model.fit(x_train, y_train, batch_size=128, epochs=12)"
      ],
      "execution_count": 54,
      "outputs": [
        {
          "output_type": "stream",
          "text": [
            "Epoch 1/12\n",
            "469/469 [==============================] - 2s 4ms/step - loss: 0.0898 - accuracy: 0.1853\n",
            "Epoch 2/12\n",
            "469/469 [==============================] - 2s 4ms/step - loss: 0.0893 - accuracy: 0.3015\n",
            "Epoch 3/12\n",
            "469/469 [==============================] - 2s 3ms/step - loss: 0.0885 - accuracy: 0.3702\n",
            "Epoch 4/12\n",
            "469/469 [==============================] - 2s 3ms/step - loss: 0.0853 - accuracy: 0.3940\n",
            "Epoch 5/12\n",
            "469/469 [==============================] - 2s 3ms/step - loss: 0.0571 - accuracy: 0.6287\n",
            "Epoch 6/12\n",
            "469/469 [==============================] - 2s 3ms/step - loss: 0.0235 - accuracy: 0.8521\n",
            "Epoch 7/12\n",
            "469/469 [==============================] - 2s 3ms/step - loss: 0.0149 - accuracy: 0.9044\n",
            "Epoch 8/12\n",
            "469/469 [==============================] - 2s 3ms/step - loss: 0.0115 - accuracy: 0.9271\n",
            "Epoch 9/12\n",
            "469/469 [==============================] - 2s 3ms/step - loss: 0.0095 - accuracy: 0.9395\n",
            "Epoch 10/12\n",
            "469/469 [==============================] - 2s 4ms/step - loss: 0.0083 - accuracy: 0.9473\n",
            "Epoch 11/12\n",
            "469/469 [==============================] - 2s 3ms/step - loss: 0.0074 - accuracy: 0.9534\n",
            "Epoch 12/12\n",
            "469/469 [==============================] - 2s 4ms/step - loss: 0.0067 - accuracy: 0.9574\n"
          ],
          "name": "stdout"
        },
        {
          "output_type": "execute_result",
          "data": {
            "text/plain": [
              "<tensorflow.python.keras.callbacks.History at 0x7f64b6065fd0>"
            ]
          },
          "metadata": {
            "tags": []
          },
          "execution_count": 54
        }
      ]
    },
    {
      "cell_type": "markdown",
      "metadata": {
        "id": "FUQMyROg9dbj"
      },
      "source": [
        "### Step 3. 預測"
      ]
    },
    {
      "cell_type": "code",
      "metadata": {
        "id": "kDKo7teW9dbk"
      },
      "source": [
        "result = model.predict_classes(x_test)"
      ],
      "execution_count": 55,
      "outputs": []
    },
    {
      "cell_type": "markdown",
      "metadata": {
        "id": "juJtihOo9dbm"
      },
      "source": [
        "### 看看測試資料表現如何"
      ]
    },
    {
      "cell_type": "code",
      "metadata": {
        "id": "p4PX-WEp9dbm",
        "outputId": "2a752023-5e8c-4d31-8e40-d9d154a0bc39",
        "colab": {
          "base_uri": "https://localhost:8080/"
        }
      },
      "source": [
        "loss, acc = model.evaluate(x_test, y_test)"
      ],
      "execution_count": 56,
      "outputs": [
        {
          "output_type": "stream",
          "text": [
            "313/313 [==============================] - 1s 2ms/step - loss: 0.0060 - accuracy: 0.9621\n"
          ],
          "name": "stdout"
        }
      ]
    },
    {
      "cell_type": "code",
      "metadata": {
        "id": "QIGoUbP_9dbp",
        "outputId": "966f3514-eccf-46b7-d74e-af823380597f",
        "colab": {
          "base_uri": "https://localhost:8080/"
        }
      },
      "source": [
        "print(f'測試資料的正確率為 {acc*100:.2f}%')"
      ],
      "execution_count": 57,
      "outputs": [
        {
          "output_type": "stream",
          "text": [
            "測試資料的正確率為 96.21%\n"
          ],
          "name": "stdout"
        }
      ]
    },
    {
      "cell_type": "code",
      "metadata": {
        "id": "w7gYfd9F9dbr"
      },
      "source": [
        "def my_predict(n):\n",
        "    print('我可愛的 CNN 預測是', result[n])\n",
        "    X = x_test[n].reshape(28,28)\n",
        "    plt.imshow(X, cmap='Greys')"
      ],
      "execution_count": 58,
      "outputs": []
    },
    {
      "cell_type": "code",
      "metadata": {
        "id": "Tfa2OSo69dbt"
      },
      "source": [
        "from ipywidgets import interact_manual"
      ],
      "execution_count": 59,
      "outputs": []
    },
    {
      "cell_type": "code",
      "metadata": {
        "id": "Q49yJg0_9dbv",
        "outputId": "06cdf004-59d7-48d2-c8dd-bad4ad895b9f",
        "colab": {
          "base_uri": "https://localhost:8080/",
          "height": 346,
          "referenced_widgets": [
            "ae9d4059acce40ed92d991c035335b4d",
            "dde9f1f5a7a144d9a9e7b92a0769cbd5",
            "7dfcdd0e0db44ec3814415b193050419",
            "214e8d690da84d43a6a95a1200ba26f1",
            "2aae08bb4e1f4dd4950eed4d4c24b464",
            "1e0018a3a57a46f1976f4c5e9deb2882",
            "acf16dd4f272446794c7e821afe9f9b3",
            "a83e32bacd5449d7a3b75591d3ce4bc8",
            "6ae8338bfad2413d8c0138ab52f18246",
            "47441e2698544309ab1e2b2a94616a10"
          ]
        }
      },
      "source": [
        "interact_manual(my_predict, n=(0, 9999));"
      ],
      "execution_count": 60,
      "outputs": [
        {
          "output_type": "display_data",
          "data": {
            "application/vnd.jupyter.widget-view+json": {
              "model_id": "ae9d4059acce40ed92d991c035335b4d",
              "version_minor": 0,
              "version_major": 2
            },
            "text/plain": [
              "interactive(children=(IntSlider(value=4999, description='n', max=9999), Button(description='Run Interact', sty…"
            ]
          },
          "metadata": {
            "tags": []
          }
        }
      ]
    },
    {
      "cell_type": "markdown",
      "metadata": {
        "id": "UHORmSzV9dbx"
      },
      "source": [
        "### 把我們的 model 存起來"
      ]
    },
    {
      "cell_type": "code",
      "metadata": {
        "id": "FagYVHQv9dbx"
      },
      "source": [
        "model.save('myCNNmodel.h5')"
      ],
      "execution_count": 61,
      "outputs": []
    }
  ]
}